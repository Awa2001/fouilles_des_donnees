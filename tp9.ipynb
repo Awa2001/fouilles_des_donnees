{
 "cells": [
  {
   "cell_type": "code",
   "outputs": [],
   "source": [
    "import pandas as pd\n",
    "from sklearn.preprocessing import StandardScaler, OneHotEncoder\n",
    "from sklearn.compose import ColumnTransformer\n",
    "from sklearn.pipeline import Pipeline\n",
    "from sklearn.linear_model import LogisticRegression\n",
    "\n",
    "# Charger les données d'entraînement et de test\n",
    "train_data = pd.read_csv('trainm.csv')\n",
    "test_data = pd.read_csv('testm.csv')\n",
    "\n",
    "# Séparer les features et la cible dans les données d'entraînement\n",
    "X_train = train_data.drop(columns=['Exited'])  # Features\n",
    "y_train = train_data['Exited']  # Cible\n",
    "\n",
    "# Prétraitement des données\n",
    "numeric_features = X_train.select_dtypes(include=['int64', 'float64']).columns\n",
    "categorical_features = X_train.select_dtypes(include=['object']).columns\n",
    "\n",
    "# Créer un preprocessor\n",
    "preprocessor = ColumnTransformer(\n",
    "    transformers=[\n",
    "        ('num', StandardScaler(), numeric_features),  # Standardisation des features numériques\n",
    "        ('cat', OneHotEncoder(handle_unknown='ignore'), categorical_features)  # Encodage One-Hot des features catégorielles\n",
    "    ])\n",
    "\n",
    "# Modèle\n",
    "model = LogisticRegression(max_iter=1000)  # Initialisation du modèle de régression logistique\n",
    "\n",
    "# Créer un pipeline qui combine le prétraitement et le modèle\n",
    "pipeline = Pipeline(steps=[('preprocessor', preprocessor),\n",
    "                           ('classifier', model)])\n",
    "\n",
    "# Entraîner le modèle\n",
    "pipeline.fit(X_train, y_train)\n",
    "\n",
    "# Prétraitement des données de test\n",
    "X_test = test_data\n",
    "\n",
    "# Prédire la probabilité de 'Exited' pour les données de test\n",
    "test_probabilities = pipeline.predict_proba(X_test)[:, 1]  # Probabilités de classe positive\n",
    "\n",
    "# Créer un DataFrame pour les probabilités prédites\n",
    "submission_df = pd.DataFrame({'id': test_data['id'], 'Exited': test_probabilities})\n",
    "\n",
    "# Enregistrer les prédictions au format CSV\n",
    "submission_df.to_csv('mysample_submission.csv', index=False)\n"
   ],
   "metadata": {
    "collapsed": false
   },
   "id": "9c67bb381f37586d"
  }
 ],
 "metadata": {
  "kernelspec": {
   "display_name": "Python 3",
   "language": "python",
   "name": "python3"
  },
  "language_info": {
   "codemirror_mode": {
    "name": "ipython",
    "version": 2
   },
   "file_extension": ".py",
   "mimetype": "text/x-python",
   "name": "python",
   "nbconvert_exporter": "python",
   "pygments_lexer": "ipython2",
   "version": "2.7.6"
  }
 },
 "nbformat": 4,
 "nbformat_minor": 5
}
